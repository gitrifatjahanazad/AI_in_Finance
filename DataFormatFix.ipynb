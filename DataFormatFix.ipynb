{
 "cells": [
  {
   "cell_type": "code",
   "execution_count": 2,
   "metadata": {},
   "outputs": [
    {
     "name": "stderr",
     "output_type": "stream",
     "text": [
      "c:\\users\\hp\\appdata\\local\\programs\\python\\python35\\lib\\site-packages\\sklearn\\cross_validation.py:41: DeprecationWarning: This module was deprecated in version 0.18 in favor of the model_selection module into which all the refactored classes and functions are moved. Also note that the interface of the new CV iterators are different from that of this module. This module will be removed in 0.20.\n",
      "  \"This module will be removed in 0.20.\", DeprecationWarning)\n"
     ]
    }
   ],
   "source": [
    "import requests\n",
    "from flask import Flask, request, jsonify, send_from_directory\n",
    "app = Flask(__name__)\n",
    "import pandas as pd\n",
    "import quandl\n",
    "import math\n",
    "import random\n",
    "import os\n",
    "import datetime\n",
    "import numpy as np\n",
    "from sklearn import preprocessing, cross_validation, svm\n",
    "from sklearn.linear_model import LinearRegression\n",
    "import numpy as np"
   ]
  },
  {
   "cell_type": "markdown",
   "metadata": {},
   "source": [
    "# Needed Fields\n",
    "['Adj. Open', 'Adj. High', 'Adj. Low', 'Adj. Close', 'Adj. Volume']"
   ]
  },
  {
   "cell_type": "code",
   "execution_count": 3,
   "metadata": {},
   "outputs": [],
   "source": [
    "dataFile = 'stockData.csv';\n",
    "data = pd.read_csv(dataFile,parse_dates=True)"
   ]
  },
  {
   "cell_type": "code",
   "execution_count": 4,
   "metadata": {},
   "outputs": [
    {
     "data": {
      "text/plain": [
       "['#',\n",
       " 'DATE',\n",
       " 'TRADING CODE',\n",
       " 'LTP*',\n",
       " 'HIGH',\n",
       " 'LOW',\n",
       " 'OPENP*',\n",
       " 'CLOSEP*',\n",
       " 'YCP',\n",
       " 'TRADE',\n",
       " 'VALUE (mn)',\n",
       " 'VOLUME']"
      ]
     },
     "execution_count": 4,
     "metadata": {},
     "output_type": "execute_result"
    }
   ],
   "source": [
    "list(data.columns.values)"
   ]
  },
  {
   "cell_type": "code",
   "execution_count": 1,
   "metadata": {},
   "outputs": [
    {
     "ename": "NameError",
     "evalue": "name 'quandl' is not defined",
     "output_type": "error",
     "traceback": [
      "\u001b[1;31m---------------------------------------------------------------------------\u001b[0m",
      "\u001b[1;31mNameError\u001b[0m                                 Traceback (most recent call last)",
      "\u001b[1;32m<ipython-input-1-f2d60ce1c6fa>\u001b[0m in \u001b[0;36m<module>\u001b[1;34m\u001b[0m\n\u001b[0;32m     18\u001b[0m     \u001b[0mdata\u001b[0m\u001b[1;33m.\u001b[0m\u001b[0mfillna\u001b[0m\u001b[1;33m(\u001b[0m\u001b[1;36m0.1\u001b[0m\u001b[1;33m,\u001b[0m \u001b[0minplace\u001b[0m\u001b[1;33m=\u001b[0m\u001b[1;32mTrue\u001b[0m\u001b[1;33m)\u001b[0m\u001b[1;33m\u001b[0m\u001b[0m\n\u001b[0;32m     19\u001b[0m     \u001b[1;32mreturn\u001b[0m \u001b[0mdata\u001b[0m\u001b[1;33m\u001b[0m\u001b[0m\n\u001b[1;32m---> 20\u001b[1;33m \u001b[0mquandl\u001b[0m\u001b[1;33m.\u001b[0m\u001b[0mApiConfig\u001b[0m\u001b[1;33m.\u001b[0m\u001b[0mapi_key\u001b[0m \u001b[1;33m=\u001b[0m \u001b[1;34m\"qWcicxSctVxrP9PhyneG\"\u001b[0m\u001b[1;33m\u001b[0m\u001b[0m\n\u001b[0m\u001b[0;32m     21\u001b[0m \u001b[0mallData\u001b[0m \u001b[1;33m=\u001b[0m \u001b[0mloadFixedStockData\u001b[0m\u001b[1;33m(\u001b[0m\u001b[1;33m)\u001b[0m \u001b[1;31m#quandl.get('WIKI/'+stock)\u001b[0m\u001b[1;33m\u001b[0m\u001b[0m\n\u001b[0;32m     22\u001b[0m \u001b[0mdataLength\u001b[0m \u001b[1;33m=\u001b[0m \u001b[1;36m251\u001b[0m\u001b[1;33m\u001b[0m\u001b[0m\n",
      "\u001b[1;31mNameError\u001b[0m: name 'quandl' is not defined"
     ]
    }
   ],
   "source": [
    "def loadFixedStockData():\n",
    "    dataFile = 'stockData.csv'\n",
    "    data = pd.read_csv(dataFile,parse_dates=True)\n",
    "    data = data.rename(columns={'DATE':'Date',\n",
    "    'TRADING CODE':'TradingCode',\n",
    "    'LTP*':'LTP',\n",
    "    'HIGH':'Adj. High',\n",
    "    'LOW':'Adj. Low',\n",
    "    'OPENP*':'Adj. Open',\n",
    "    'CLOSEP*':'Adj. Close',\n",
    "    'YCP':'YCP',\n",
    "    'TRADE':'Trade',\n",
    "    'VALUE (mn)':'Value',\n",
    "    'VOLUME':'Adj. Volume'})\n",
    "    data['Date'] = data['Date'].apply(lambda x: datetime.datetime.strptime(x, '%m/%d/%Y'))\n",
    "    data['Adj. Volume'] = data['Adj. Volume'].apply(lambda x: float(x.replace(',','')))\n",
    "    data = data.set_index('Date')\n",
    "    data.fillna(0.1, inplace=True)\n",
    "    return data\n",
    "quandl.ApiConfig.api_key = \"qWcicxSctVxrP9PhyneG\"\n",
    "allData = loadFixedStockData() #quandl.get('WIKI/'+stock)\n",
    "dataLength = 251\n",
    "allDataLength = len(allData)\n",
    "firstDataElem = math.floor(random.random()*(allDataLength-dataLength))\n",
    "mlData = allData[0:firstDataElem+dataLength]\n",
    "\n",
    "def FormatForModel(dataArray):\n",
    "    dataArray = dataArray[['Adj. Open', 'Adj. High', 'Adj. Low', 'Adj. Close', 'Adj. Volume']]\n",
    "    dataArray['HL_PCT'] = (dataArray['Adj. High'] - dataArray['Adj. Close']) / dataArray['Adj. Close'] * 100.0\n",
    "    dataArray['PCT_change'] = (dataArray['Adj. Close'] - dataArray['Adj. Open']) / dataArray['Adj. Open'] * 100.0\n",
    "    dataArray = dataArray[['Adj. Close', 'HL_PCT', 'PCT_change','Adj. Volume']]\n",
    "    dataArray = dataArray.replace(0,0.1)\n",
    "    dataArray = dataArray.replace([np.inf,-np.inf],np.nan)\n",
    "    dataArray.fillna(0.1, inplace=True)\n",
    "    return dataArray\n",
    "\n",
    "mlData = FormatForModel(mlData)\n",
    "\n",
    "forecast_col = 'Adj. Close'\n",
    "forecast_out = int(math.ceil(0.12*dataLength))\n",
    "\n",
    "\n",
    "mlData['label'] = mlData[forecast_col].shift(-forecast_out)\n",
    "mlData.dropna(inplace=True)\n",
    "\n",
    "X = np.array(mlData.drop(['label'],1))\n",
    "np.max(X)"
   ]
  },
  {
   "cell_type": "code",
   "execution_count": 4,
   "metadata": {},
   "outputs": [
    {
     "data": {
      "text/html": [
       "<div>\n",
       "<style scoped>\n",
       "    .dataframe tbody tr th:only-of-type {\n",
       "        vertical-align: middle;\n",
       "    }\n",
       "\n",
       "    .dataframe tbody tr th {\n",
       "        vertical-align: top;\n",
       "    }\n",
       "\n",
       "    .dataframe thead th {\n",
       "        text-align: right;\n",
       "    }\n",
       "</style>\n",
       "<table border=\"1\" class=\"dataframe\">\n",
       "  <thead>\n",
       "    <tr style=\"text-align: right;\">\n",
       "      <th></th>\n",
       "      <th>#</th>\n",
       "      <th>TradingCode</th>\n",
       "      <th>LTP</th>\n",
       "      <th>Adj. High</th>\n",
       "      <th>Adj. Low</th>\n",
       "      <th>Adj. Open</th>\n",
       "      <th>Adj. Close</th>\n",
       "      <th>YCP</th>\n",
       "      <th>Trade</th>\n",
       "      <th>Value</th>\n",
       "      <th>Adj. Volume</th>\n",
       "    </tr>\n",
       "    <tr>\n",
       "      <th>Date</th>\n",
       "      <th></th>\n",
       "      <th></th>\n",
       "      <th></th>\n",
       "      <th></th>\n",
       "      <th></th>\n",
       "      <th></th>\n",
       "      <th></th>\n",
       "      <th></th>\n",
       "      <th></th>\n",
       "      <th></th>\n",
       "      <th></th>\n",
       "    </tr>\n",
       "  </thead>\n",
       "  <tbody>\n",
       "    <tr>\n",
       "      <th>2017-01-01</th>\n",
       "      <td>528</td>\n",
       "      <td>SQURPHARMA</td>\n",
       "      <td>248.2</td>\n",
       "      <td>249.5</td>\n",
       "      <td>248.0</td>\n",
       "      <td>249.5</td>\n",
       "      <td>248.2</td>\n",
       "      <td>249.1</td>\n",
       "      <td>1,031</td>\n",
       "      <td>73.705</td>\n",
       "      <td>296729.0</td>\n",
       "    </tr>\n",
       "    <tr>\n",
       "      <th>2017-01-02</th>\n",
       "      <td>527</td>\n",
       "      <td>SQURPHARMA</td>\n",
       "      <td>249.0</td>\n",
       "      <td>250.0</td>\n",
       "      <td>248.1</td>\n",
       "      <td>248.5</td>\n",
       "      <td>249.4</td>\n",
       "      <td>248.2</td>\n",
       "      <td>1,344</td>\n",
       "      <td>104.817</td>\n",
       "      <td>421178.0</td>\n",
       "    </tr>\n",
       "    <tr>\n",
       "      <th>2017-01-03</th>\n",
       "      <td>526</td>\n",
       "      <td>SQURPHARMA</td>\n",
       "      <td>251.5</td>\n",
       "      <td>251.5</td>\n",
       "      <td>248.8</td>\n",
       "      <td>250.0</td>\n",
       "      <td>250.9</td>\n",
       "      <td>249.4</td>\n",
       "      <td>1,314</td>\n",
       "      <td>136.777</td>\n",
       "      <td>546260.0</td>\n",
       "    </tr>\n",
       "    <tr>\n",
       "      <th>2017-01-04</th>\n",
       "      <td>525</td>\n",
       "      <td>SQURPHARMA</td>\n",
       "      <td>253.0</td>\n",
       "      <td>254.3</td>\n",
       "      <td>250.0</td>\n",
       "      <td>250.9</td>\n",
       "      <td>253.7</td>\n",
       "      <td>250.9</td>\n",
       "      <td>1,608</td>\n",
       "      <td>129.563</td>\n",
       "      <td>514003.0</td>\n",
       "    </tr>\n",
       "    <tr>\n",
       "      <th>2017-01-05</th>\n",
       "      <td>524</td>\n",
       "      <td>SQURPHARMA</td>\n",
       "      <td>252.5</td>\n",
       "      <td>254.0</td>\n",
       "      <td>252.1</td>\n",
       "      <td>253.0</td>\n",
       "      <td>253.0</td>\n",
       "      <td>253.7</td>\n",
       "      <td>1,335</td>\n",
       "      <td>99.740</td>\n",
       "      <td>393932.0</td>\n",
       "    </tr>\n",
       "  </tbody>\n",
       "</table>\n",
       "</div>"
      ],
      "text/plain": [
       "              # TradingCode    LTP  Adj. High  Adj. Low  Adj. Open  \\\n",
       "Date                                                                 \n",
       "2017-01-01  528  SQURPHARMA  248.2      249.5     248.0      249.5   \n",
       "2017-01-02  527  SQURPHARMA  249.0      250.0     248.1      248.5   \n",
       "2017-01-03  526  SQURPHARMA  251.5      251.5     248.8      250.0   \n",
       "2017-01-04  525  SQURPHARMA  253.0      254.3     250.0      250.9   \n",
       "2017-01-05  524  SQURPHARMA  252.5      254.0     252.1      253.0   \n",
       "\n",
       "            Adj. Close    YCP  Trade    Value  Adj. Volume  \n",
       "Date                                                        \n",
       "2017-01-01       248.2  249.1  1,031   73.705     296729.0  \n",
       "2017-01-02       249.4  248.2  1,344  104.817     421178.0  \n",
       "2017-01-03       250.9  249.4  1,314  136.777     546260.0  \n",
       "2017-01-04       253.7  250.9  1,608  129.563     514003.0  \n",
       "2017-01-05       253.0  253.7  1,335   99.740     393932.0  "
      ]
     },
     "execution_count": 4,
     "metadata": {},
     "output_type": "execute_result"
    }
   ],
   "source": [
    "dataFile = 'stockData.csv'\n",
    "data = pd.read_csv(dataFile,parse_dates=True)\n",
    "data = data.rename(columns={'DATE':'Date',\n",
    "'TRADING CODE':'TradingCode',\n",
    "'LTP*':'LTP',\n",
    "'HIGH':'Adj. High',\n",
    "'LOW':'Adj. Low',\n",
    "'OPENP*':'Adj. Open',\n",
    "'CLOSEP*':'Adj. Close',\n",
    "'YCP':'YCP',\n",
    "'TRADE':'Trade',\n",
    "'VALUE (mn)':'Value',\n",
    "'VOLUME':'Adj. Volume'})\n",
    "data['Date'] = data['Date'].apply(lambda x: datetime.datetime.strptime(x, '%m/%d/%Y'))\n",
    "data['Adj. Volume'] = data['Adj. Volume'].apply(lambda x: float(x.replace(',','')))\n",
    "data = data.set_index('Date')\n",
    "data.fillna(0.1, inplace=True)\n",
    "data = data.sort_index()\n",
    "data.head()"
   ]
  },
  {
   "cell_type": "code",
   "execution_count": 6,
   "metadata": {},
   "outputs": [
    {
     "name": "stdout",
     "output_type": "stream",
     "text": [
      "<class 'pandas.core.frame.DataFrame'>\n",
      "DatetimeIndex: 528 entries, 2019-02-24 to 2017-01-01\n",
      "Data columns (total 4 columns):\n",
      "Adj. Close     528 non-null float64\n",
      "HL_PCT         528 non-null float64\n",
      "PCT_change     528 non-null float64\n",
      "Adj. Volume    528 non-null float64\n",
      "dtypes: float64(4)\n",
      "memory usage: 20.6 KB\n"
     ]
    }
   ],
   "source": [
    "data.info()"
   ]
  },
  {
   "cell_type": "code",
   "execution_count": 48,
   "metadata": {},
   "outputs": [
    {
     "data": {
      "text/plain": [
       "pandas.core.frame.DataFrame"
      ]
     },
     "execution_count": 48,
     "metadata": {},
     "output_type": "execute_result"
    }
   ],
   "source": [
    "type(data)"
   ]
  },
  {
   "cell_type": "code",
   "execution_count": 9,
   "metadata": {},
   "outputs": [],
   "source": [
    "quandl.ApiConfig.api_key = \"qWcicxSctVxrP9PhyneG\"\n",
    "tripStockData = quandl.get('WIKI/TRIP')"
   ]
  },
  {
   "cell_type": "code",
   "execution_count": 14,
   "metadata": {},
   "outputs": [
    {
     "data": {
      "text/html": [
       "<div>\n",
       "<style scoped>\n",
       "    .dataframe tbody tr th:only-of-type {\n",
       "        vertical-align: middle;\n",
       "    }\n",
       "\n",
       "    .dataframe tbody tr th {\n",
       "        vertical-align: top;\n",
       "    }\n",
       "\n",
       "    .dataframe thead th {\n",
       "        text-align: right;\n",
       "    }\n",
       "</style>\n",
       "<table border=\"1\" class=\"dataframe\">\n",
       "  <thead>\n",
       "    <tr style=\"text-align: right;\">\n",
       "      <th></th>\n",
       "      <th>Open</th>\n",
       "      <th>High</th>\n",
       "      <th>Low</th>\n",
       "      <th>Close</th>\n",
       "      <th>Volume</th>\n",
       "      <th>Ex-Dividend</th>\n",
       "      <th>Split Ratio</th>\n",
       "      <th>Adj. Open</th>\n",
       "      <th>Adj. High</th>\n",
       "      <th>Adj. Low</th>\n",
       "      <th>Adj. Close</th>\n",
       "      <th>Adj. Volume</th>\n",
       "    </tr>\n",
       "    <tr>\n",
       "      <th>Date</th>\n",
       "      <th></th>\n",
       "      <th></th>\n",
       "      <th></th>\n",
       "      <th></th>\n",
       "      <th></th>\n",
       "      <th></th>\n",
       "      <th></th>\n",
       "      <th></th>\n",
       "      <th></th>\n",
       "      <th></th>\n",
       "      <th></th>\n",
       "      <th></th>\n",
       "    </tr>\n",
       "  </thead>\n",
       "  <tbody>\n",
       "    <tr>\n",
       "      <th>2011-12-07</th>\n",
       "      <td>27.50</td>\n",
       "      <td>27.76</td>\n",
       "      <td>24.000</td>\n",
       "      <td>27.45</td>\n",
       "      <td>1413700.0</td>\n",
       "      <td>0.0</td>\n",
       "      <td>1.0</td>\n",
       "      <td>27.50</td>\n",
       "      <td>27.76</td>\n",
       "      <td>24.000</td>\n",
       "      <td>27.45</td>\n",
       "      <td>1413700.0</td>\n",
       "    </tr>\n",
       "    <tr>\n",
       "      <th>2011-12-08</th>\n",
       "      <td>26.06</td>\n",
       "      <td>27.78</td>\n",
       "      <td>25.759</td>\n",
       "      <td>26.55</td>\n",
       "      <td>719600.0</td>\n",
       "      <td>0.0</td>\n",
       "      <td>1.0</td>\n",
       "      <td>26.06</td>\n",
       "      <td>27.78</td>\n",
       "      <td>25.759</td>\n",
       "      <td>26.55</td>\n",
       "      <td>719600.0</td>\n",
       "    </tr>\n",
       "    <tr>\n",
       "      <th>2011-12-09</th>\n",
       "      <td>27.93</td>\n",
       "      <td>28.00</td>\n",
       "      <td>26.700</td>\n",
       "      <td>27.91</td>\n",
       "      <td>716200.0</td>\n",
       "      <td>0.0</td>\n",
       "      <td>1.0</td>\n",
       "      <td>27.93</td>\n",
       "      <td>28.00</td>\n",
       "      <td>26.700</td>\n",
       "      <td>27.91</td>\n",
       "      <td>716200.0</td>\n",
       "    </tr>\n",
       "    <tr>\n",
       "      <th>2011-12-12</th>\n",
       "      <td>28.28</td>\n",
       "      <td>28.28</td>\n",
       "      <td>27.000</td>\n",
       "      <td>27.45</td>\n",
       "      <td>393300.0</td>\n",
       "      <td>0.0</td>\n",
       "      <td>1.0</td>\n",
       "      <td>28.28</td>\n",
       "      <td>28.28</td>\n",
       "      <td>27.000</td>\n",
       "      <td>27.45</td>\n",
       "      <td>393300.0</td>\n",
       "    </tr>\n",
       "    <tr>\n",
       "      <th>2011-12-13</th>\n",
       "      <td>28.53</td>\n",
       "      <td>28.53</td>\n",
       "      <td>27.010</td>\n",
       "      <td>27.50</td>\n",
       "      <td>452500.0</td>\n",
       "      <td>0.0</td>\n",
       "      <td>1.0</td>\n",
       "      <td>28.53</td>\n",
       "      <td>28.53</td>\n",
       "      <td>27.010</td>\n",
       "      <td>27.50</td>\n",
       "      <td>452500.0</td>\n",
       "    </tr>\n",
       "  </tbody>\n",
       "</table>\n",
       "</div>"
      ],
      "text/plain": [
       "             Open   High     Low  Close     Volume  Ex-Dividend  Split Ratio  \\\n",
       "Date                                                                           \n",
       "2011-12-07  27.50  27.76  24.000  27.45  1413700.0          0.0          1.0   \n",
       "2011-12-08  26.06  27.78  25.759  26.55   719600.0          0.0          1.0   \n",
       "2011-12-09  27.93  28.00  26.700  27.91   716200.0          0.0          1.0   \n",
       "2011-12-12  28.28  28.28  27.000  27.45   393300.0          0.0          1.0   \n",
       "2011-12-13  28.53  28.53  27.010  27.50   452500.0          0.0          1.0   \n",
       "\n",
       "            Adj. Open  Adj. High  Adj. Low  Adj. Close  Adj. Volume  \n",
       "Date                                                                 \n",
       "2011-12-07      27.50      27.76    24.000       27.45    1413700.0  \n",
       "2011-12-08      26.06      27.78    25.759       26.55     719600.0  \n",
       "2011-12-09      27.93      28.00    26.700       27.91     716200.0  \n",
       "2011-12-12      28.28      28.28    27.000       27.45     393300.0  \n",
       "2011-12-13      28.53      28.53    27.010       27.50     452500.0  "
      ]
     },
     "execution_count": 14,
     "metadata": {},
     "output_type": "execute_result"
    }
   ],
   "source": [
    "tripStockData.head()"
   ]
  },
  {
   "cell_type": "code",
   "execution_count": 13,
   "metadata": {},
   "outputs": [
    {
     "name": "stdout",
     "output_type": "stream",
     "text": [
      "<class 'pandas.core.frame.DataFrame'>\n",
      "DatetimeIndex: 1584 entries, 2011-12-07 to 2018-03-27\n",
      "Data columns (total 12 columns):\n",
      "Open           1584 non-null float64\n",
      "High           1584 non-null float64\n",
      "Low            1584 non-null float64\n",
      "Close          1584 non-null float64\n",
      "Volume         1584 non-null float64\n",
      "Ex-Dividend    1584 non-null float64\n",
      "Split Ratio    1584 non-null float64\n",
      "Adj. Open      1584 non-null float64\n",
      "Adj. High      1584 non-null float64\n",
      "Adj. Low       1584 non-null float64\n",
      "Adj. Close     1584 non-null float64\n",
      "Adj. Volume    1584 non-null float64\n",
      "dtypes: float64(12)\n",
      "memory usage: 160.9 KB\n"
     ]
    }
   ],
   "source": [
    "tripStockData.info()"
   ]
  },
  {
   "cell_type": "code",
   "execution_count": 46,
   "metadata": {},
   "outputs": [
    {
     "data": {
      "text/plain": [
       "pandas.core.frame.DataFrame"
      ]
     },
     "execution_count": 46,
     "metadata": {},
     "output_type": "execute_result"
    }
   ],
   "source": [
    "type(tripStockData)"
   ]
  },
  {
   "cell_type": "code",
   "execution_count": 57,
   "metadata": {},
   "outputs": [
    {
     "data": {
      "text/plain": [
       "['Open',\n",
       " 'High',\n",
       " 'Low',\n",
       " 'Close',\n",
       " 'Volume',\n",
       " 'Ex-Dividend',\n",
       " 'Split Ratio',\n",
       " 'Adj. Open',\n",
       " 'Adj. High',\n",
       " 'Adj. Low',\n",
       " 'Adj. Close',\n",
       " 'Adj. Volume']"
      ]
     },
     "execution_count": 57,
     "metadata": {},
     "output_type": "execute_result"
    }
   ],
   "source": [
    "list(tripStockData.columns.values)"
   ]
  },
  {
   "cell_type": "code",
   "execution_count": 27,
   "metadata": {},
   "outputs": [
    {
     "name": "stderr",
     "output_type": "stream",
     "text": [
      "c:\\users\\hp\\appdata\\local\\programs\\python\\python35\\lib\\site-packages\\ipykernel_launcher.py:9: SettingWithCopyWarning: \n",
      "A value is trying to be set on a copy of a slice from a DataFrame.\n",
      "Try using .loc[row_indexer,col_indexer] = value instead\n",
      "\n",
      "See the caveats in the documentation: http://pandas.pydata.org/pandas-docs/stable/indexing.html#indexing-view-versus-copy\n",
      "  if __name__ == '__main__':\n",
      "c:\\users\\hp\\appdata\\local\\programs\\python\\python35\\lib\\site-packages\\ipykernel_launcher.py:10: SettingWithCopyWarning: \n",
      "A value is trying to be set on a copy of a slice from a DataFrame.\n",
      "Try using .loc[row_indexer,col_indexer] = value instead\n",
      "\n",
      "See the caveats in the documentation: http://pandas.pydata.org/pandas-docs/stable/indexing.html#indexing-view-versus-copy\n",
      "  # Remove the CWD from sys.path while we load stuff.\n"
     ]
    },
    {
     "data": {
      "text/plain": [
       "12923400.0"
      ]
     },
     "execution_count": 27,
     "metadata": {},
     "output_type": "execute_result"
    }
   ],
   "source": [
    "allData = quandl.get('WIKI/TRIP')\n",
    "dataLength = 251\n",
    "allDataLength = len(allData)\n",
    "firstDataElem = math.floor(random.random()*(allDataLength-dataLength))\n",
    "mlData = allData[0:firstDataElem+dataLength]\n",
    "\n",
    "def FormatForModel(dataArray):\n",
    "    dataArray = dataArray[['Adj. Open', 'Adj. High', 'Adj. Low', 'Adj. Close', 'Adj. Volume']]\n",
    "    dataArray['HL_PCT'] = (dataArray['Adj. High'] - dataArray['Adj. Close']) / dataArray['Adj. Close'] * 100.0\n",
    "    dataArray['PCT_change'] = (dataArray['Adj. Close'] - dataArray['Adj. Open']) / dataArray['Adj. Open'] * 100.0\n",
    "    dataArray = dataArray[['Adj. Close', 'HL_PCT', 'PCT_change','Adj. Volume']]\n",
    "    dataArray.fillna(0.1, inplace=True)\n",
    "    dataArray.replace(0,0.1)\n",
    "    return dataArray\n",
    "\n",
    "mlData = FormatForModel(mlData)\n",
    "\n",
    "forecast_col = 'Adj. Close'\n",
    "forecast_out = int(math.ceil(0.12*dataLength))\n",
    "\n",
    "\n",
    "mlData['label'] = mlData[forecast_col].shift(-forecast_out)\n",
    "mlData.dropna(inplace=True)\n",
    "\n",
    "X = np.array(mlData.drop(['label'],1))\n",
    "np.max(X)"
   ]
  },
  {
   "cell_type": "code",
   "execution_count": null,
   "metadata": {},
   "outputs": [],
   "source": []
  }
 ],
 "metadata": {
  "kernelspec": {
   "display_name": "Python 3",
   "language": "python",
   "name": "python3"
  },
  "language_info": {
   "codemirror_mode": {
    "name": "ipython",
    "version": 3
   },
   "file_extension": ".py",
   "mimetype": "text/x-python",
   "name": "python",
   "nbconvert_exporter": "python",
   "pygments_lexer": "ipython3",
   "version": "3.5.4"
  }
 },
 "nbformat": 4,
 "nbformat_minor": 2
}
